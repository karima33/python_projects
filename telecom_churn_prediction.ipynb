{
  "cells": [
    {
      "cell_type": "markdown",
      "metadata": {
        "id": "view-in-github",
        "colab_type": "text"
      },
      "source": [
        "<a href=\"https://colab.research.google.com/github/karima33/python_projects/blob/main/telecom_churn_prediction.ipynb\" target=\"_parent\"><img src=\"https://colab.research.google.com/assets/colab-badge.svg\" alt=\"Open In Colab\"/></a>"
      ]
    },
    {
      "metadata": {
        "_uuid": "3544313683eb7fc71db62dea38a54a3482efec26",
        "id": "KCnJfC05JnXv"
      },
      "cell_type": "markdown",
      "source": [
        "# EDA and Prediction"
      ]
    },
    {
      "metadata": {
        "_uuid": "db15e9d14568dbe9d4091a9efe0dd1fd946b137a",
        "id": "Czr9KO3-JnXz"
      },
      "cell_type": "markdown",
      "source": [
        "Churn is a one of the biggest problem in  the telecom industry. Research has shown that the average monthly churn rate among the top 4 wireless carriers in the US is 1.9% - 2%. "
      ]
    },
    {
      "metadata": {
        "_uuid": "8f2839f25d086af736a60e9eeb907d3b93b6e0e5",
        "_cell_guid": "b1076dfc-b9ad-4769-8c92-a6c4dae69d19",
        "trusted": true,
        "id": "YLyuHpYWJnX0"
      },
      "cell_type": "code",
      "source": [
        "import numpy as np # linear algebra\n",
        "import pandas as pd # data processing, CSV file I/O (e.g. pd.read_csv)\n",
        "import seaborn as sns # For creating plots\n",
        "import matplotlib.ticker as mtick # For specifying the axes tick format \n",
        "import matplotlib.pyplot as plt\n",
        "\n"
      ],
      "execution_count": null,
      "outputs": []
    },
    {
      "metadata": {
        "_uuid": "72e4750b2861fe4d89197b4c73ad861544701c4f",
        "id": "8-zKlsp4JnX1"
      },
      "cell_type": "markdown",
      "source": [
        "**Let us read the data file in the python notebook**"
      ]
    },
    {
      "metadata": {
        "_cell_guid": "79c7e3d0-c299-4dcb-8224-4455121ee9b0",
        "_uuid": "d629ff2d2480ee46fbb7e2d37f6b5fab8052498a",
        "trusted": true,
        "id": "1Bu9M0FKJnX1"
      },
      "cell_type": "code",
      "source": [
        "# reading our dataset\n",
        "telecom_cust = pd.read_csv('/content/WA_Fn-UseC_-Telco-Customer-Churn.csv')"
      ],
      "execution_count": null,
      "outputs": []
    },
    {
      "metadata": {
        "trusted": true,
        "_uuid": "9dc64474af58b8114afb60f83cd1a002722ba74c",
        "scrolled": true,
        "colab": {
          "base_uri": "https://localhost:8080/",
          "height": 386
        },
        "id": "-pKvvHf0JnX2",
        "outputId": "1e22e3be-35b9-4274-fb8e-8b78cc0850a6"
      },
      "cell_type": "code",
      "source": [
        "#head of our data\n",
        "telecom_cust.head()"
      ],
      "execution_count": null,
      "outputs": [
        {
          "output_type": "execute_result",
          "data": {
            "text/plain": [
              "   customerID  gender  SeniorCitizen Partner Dependents  tenure PhoneService  \\\n",
              "0  7590-VHVEG  Female              0     Yes         No       1           No   \n",
              "1  5575-GNVDE    Male              0      No         No      34          Yes   \n",
              "2  3668-QPYBK    Male              0      No         No       2          Yes   \n",
              "3  7795-CFOCW    Male              0      No         No      45           No   \n",
              "4  9237-HQITU  Female              0      No         No       2          Yes   \n",
              "\n",
              "      MultipleLines InternetService OnlineSecurity  ... DeviceProtection  \\\n",
              "0  No phone service             DSL             No  ...               No   \n",
              "1                No             DSL            Yes  ...              Yes   \n",
              "2                No             DSL            Yes  ...               No   \n",
              "3  No phone service             DSL            Yes  ...              Yes   \n",
              "4                No     Fiber optic             No  ...               No   \n",
              "\n",
              "  TechSupport StreamingTV StreamingMovies        Contract PaperlessBilling  \\\n",
              "0          No          No              No  Month-to-month              Yes   \n",
              "1          No          No              No        One year               No   \n",
              "2          No          No              No  Month-to-month              Yes   \n",
              "3         Yes          No              No        One year               No   \n",
              "4          No          No              No  Month-to-month              Yes   \n",
              "\n",
              "               PaymentMethod MonthlyCharges  TotalCharges Churn  \n",
              "0           Electronic check          29.85         29.85    No  \n",
              "1               Mailed check          56.95        1889.5    No  \n",
              "2               Mailed check          53.85        108.15   Yes  \n",
              "3  Bank transfer (automatic)          42.30       1840.75    No  \n",
              "4           Electronic check          70.70        151.65   Yes  \n",
              "\n",
              "[5 rows x 21 columns]"
            ],
            "text/html": [
              "\n",
              "  <div id=\"df-e7665d2f-703f-4423-b2fc-a75e102f69a3\">\n",
              "    <div class=\"colab-df-container\">\n",
              "      <div>\n",
              "<style scoped>\n",
              "    .dataframe tbody tr th:only-of-type {\n",
              "        vertical-align: middle;\n",
              "    }\n",
              "\n",
              "    .dataframe tbody tr th {\n",
              "        vertical-align: top;\n",
              "    }\n",
              "\n",
              "    .dataframe thead th {\n",
              "        text-align: right;\n",
              "    }\n",
              "</style>\n",
              "<table border=\"1\" class=\"dataframe\">\n",
              "  <thead>\n",
              "    <tr style=\"text-align: right;\">\n",
              "      <th></th>\n",
              "      <th>customerID</th>\n",
              "      <th>gender</th>\n",
              "      <th>SeniorCitizen</th>\n",
              "      <th>Partner</th>\n",
              "      <th>Dependents</th>\n",
              "      <th>tenure</th>\n",
              "      <th>PhoneService</th>\n",
              "      <th>MultipleLines</th>\n",
              "      <th>InternetService</th>\n",
              "      <th>OnlineSecurity</th>\n",
              "      <th>...</th>\n",
              "      <th>DeviceProtection</th>\n",
              "      <th>TechSupport</th>\n",
              "      <th>StreamingTV</th>\n",
              "      <th>StreamingMovies</th>\n",
              "      <th>Contract</th>\n",
              "      <th>PaperlessBilling</th>\n",
              "      <th>PaymentMethod</th>\n",
              "      <th>MonthlyCharges</th>\n",
              "      <th>TotalCharges</th>\n",
              "      <th>Churn</th>\n",
              "    </tr>\n",
              "  </thead>\n",
              "  <tbody>\n",
              "    <tr>\n",
              "      <th>0</th>\n",
              "      <td>7590-VHVEG</td>\n",
              "      <td>Female</td>\n",
              "      <td>0</td>\n",
              "      <td>Yes</td>\n",
              "      <td>No</td>\n",
              "      <td>1</td>\n",
              "      <td>No</td>\n",
              "      <td>No phone service</td>\n",
              "      <td>DSL</td>\n",
              "      <td>No</td>\n",
              "      <td>...</td>\n",
              "      <td>No</td>\n",
              "      <td>No</td>\n",
              "      <td>No</td>\n",
              "      <td>No</td>\n",
              "      <td>Month-to-month</td>\n",
              "      <td>Yes</td>\n",
              "      <td>Electronic check</td>\n",
              "      <td>29.85</td>\n",
              "      <td>29.85</td>\n",
              "      <td>No</td>\n",
              "    </tr>\n",
              "    <tr>\n",
              "      <th>1</th>\n",
              "      <td>5575-GNVDE</td>\n",
              "      <td>Male</td>\n",
              "      <td>0</td>\n",
              "      <td>No</td>\n",
              "      <td>No</td>\n",
              "      <td>34</td>\n",
              "      <td>Yes</td>\n",
              "      <td>No</td>\n",
              "      <td>DSL</td>\n",
              "      <td>Yes</td>\n",
              "      <td>...</td>\n",
              "      <td>Yes</td>\n",
              "      <td>No</td>\n",
              "      <td>No</td>\n",
              "      <td>No</td>\n",
              "      <td>One year</td>\n",
              "      <td>No</td>\n",
              "      <td>Mailed check</td>\n",
              "      <td>56.95</td>\n",
              "      <td>1889.5</td>\n",
              "      <td>No</td>\n",
              "    </tr>\n",
              "    <tr>\n",
              "      <th>2</th>\n",
              "      <td>3668-QPYBK</td>\n",
              "      <td>Male</td>\n",
              "      <td>0</td>\n",
              "      <td>No</td>\n",
              "      <td>No</td>\n",
              "      <td>2</td>\n",
              "      <td>Yes</td>\n",
              "      <td>No</td>\n",
              "      <td>DSL</td>\n",
              "      <td>Yes</td>\n",
              "      <td>...</td>\n",
              "      <td>No</td>\n",
              "      <td>No</td>\n",
              "      <td>No</td>\n",
              "      <td>No</td>\n",
              "      <td>Month-to-month</td>\n",
              "      <td>Yes</td>\n",
              "      <td>Mailed check</td>\n",
              "      <td>53.85</td>\n",
              "      <td>108.15</td>\n",
              "      <td>Yes</td>\n",
              "    </tr>\n",
              "    <tr>\n",
              "      <th>3</th>\n",
              "      <td>7795-CFOCW</td>\n",
              "      <td>Male</td>\n",
              "      <td>0</td>\n",
              "      <td>No</td>\n",
              "      <td>No</td>\n",
              "      <td>45</td>\n",
              "      <td>No</td>\n",
              "      <td>No phone service</td>\n",
              "      <td>DSL</td>\n",
              "      <td>Yes</td>\n",
              "      <td>...</td>\n",
              "      <td>Yes</td>\n",
              "      <td>Yes</td>\n",
              "      <td>No</td>\n",
              "      <td>No</td>\n",
              "      <td>One year</td>\n",
              "      <td>No</td>\n",
              "      <td>Bank transfer (automatic)</td>\n",
              "      <td>42.30</td>\n",
              "      <td>1840.75</td>\n",
              "      <td>No</td>\n",
              "    </tr>\n",
              "    <tr>\n",
              "      <th>4</th>\n",
              "      <td>9237-HQITU</td>\n",
              "      <td>Female</td>\n",
              "      <td>0</td>\n",
              "      <td>No</td>\n",
              "      <td>No</td>\n",
              "      <td>2</td>\n",
              "      <td>Yes</td>\n",
              "      <td>No</td>\n",
              "      <td>Fiber optic</td>\n",
              "      <td>No</td>\n",
              "      <td>...</td>\n",
              "      <td>No</td>\n",
              "      <td>No</td>\n",
              "      <td>No</td>\n",
              "      <td>No</td>\n",
              "      <td>Month-to-month</td>\n",
              "      <td>Yes</td>\n",
              "      <td>Electronic check</td>\n",
              "      <td>70.70</td>\n",
              "      <td>151.65</td>\n",
              "      <td>Yes</td>\n",
              "    </tr>\n",
              "  </tbody>\n",
              "</table>\n",
              "<p>5 rows × 21 columns</p>\n",
              "</div>\n",
              "      <button class=\"colab-df-convert\" onclick=\"convertToInteractive('df-e7665d2f-703f-4423-b2fc-a75e102f69a3')\"\n",
              "              title=\"Convert this dataframe to an interactive table.\"\n",
              "              style=\"display:none;\">\n",
              "        \n",
              "  <svg xmlns=\"http://www.w3.org/2000/svg\" height=\"24px\"viewBox=\"0 0 24 24\"\n",
              "       width=\"24px\">\n",
              "    <path d=\"M0 0h24v24H0V0z\" fill=\"none\"/>\n",
              "    <path d=\"M18.56 5.44l.94 2.06.94-2.06 2.06-.94-2.06-.94-.94-2.06-.94 2.06-2.06.94zm-11 1L8.5 8.5l.94-2.06 2.06-.94-2.06-.94L8.5 2.5l-.94 2.06-2.06.94zm10 10l.94 2.06.94-2.06 2.06-.94-2.06-.94-.94-2.06-.94 2.06-2.06.94z\"/><path d=\"M17.41 7.96l-1.37-1.37c-.4-.4-.92-.59-1.43-.59-.52 0-1.04.2-1.43.59L10.3 9.45l-7.72 7.72c-.78.78-.78 2.05 0 2.83L4 21.41c.39.39.9.59 1.41.59.51 0 1.02-.2 1.41-.59l7.78-7.78 2.81-2.81c.8-.78.8-2.07 0-2.86zM5.41 20L4 18.59l7.72-7.72 1.47 1.35L5.41 20z\"/>\n",
              "  </svg>\n",
              "      </button>\n",
              "      \n",
              "  <style>\n",
              "    .colab-df-container {\n",
              "      display:flex;\n",
              "      flex-wrap:wrap;\n",
              "      gap: 12px;\n",
              "    }\n",
              "\n",
              "    .colab-df-convert {\n",
              "      background-color: #E8F0FE;\n",
              "      border: none;\n",
              "      border-radius: 50%;\n",
              "      cursor: pointer;\n",
              "      display: none;\n",
              "      fill: #1967D2;\n",
              "      height: 32px;\n",
              "      padding: 0 0 0 0;\n",
              "      width: 32px;\n",
              "    }\n",
              "\n",
              "    .colab-df-convert:hover {\n",
              "      background-color: #E2EBFA;\n",
              "      box-shadow: 0px 1px 2px rgba(60, 64, 67, 0.3), 0px 1px 3px 1px rgba(60, 64, 67, 0.15);\n",
              "      fill: #174EA6;\n",
              "    }\n",
              "\n",
              "    [theme=dark] .colab-df-convert {\n",
              "      background-color: #3B4455;\n",
              "      fill: #D2E3FC;\n",
              "    }\n",
              "\n",
              "    [theme=dark] .colab-df-convert:hover {\n",
              "      background-color: #434B5C;\n",
              "      box-shadow: 0px 1px 3px 1px rgba(0, 0, 0, 0.15);\n",
              "      filter: drop-shadow(0px 1px 2px rgba(0, 0, 0, 0.3));\n",
              "      fill: #FFFFFF;\n",
              "    }\n",
              "  </style>\n",
              "\n",
              "      <script>\n",
              "        const buttonEl =\n",
              "          document.querySelector('#df-e7665d2f-703f-4423-b2fc-a75e102f69a3 button.colab-df-convert');\n",
              "        buttonEl.style.display =\n",
              "          google.colab.kernel.accessAllowed ? 'block' : 'none';\n",
              "\n",
              "        async function convertToInteractive(key) {\n",
              "          const element = document.querySelector('#df-e7665d2f-703f-4423-b2fc-a75e102f69a3');\n",
              "          const dataTable =\n",
              "            await google.colab.kernel.invokeFunction('convertToInteractive',\n",
              "                                                     [key], {});\n",
              "          if (!dataTable) return;\n",
              "\n",
              "          const docLinkHtml = 'Like what you see? Visit the ' +\n",
              "            '<a target=\"_blank\" href=https://colab.research.google.com/notebooks/data_table.ipynb>data table notebook</a>'\n",
              "            + ' to learn more about interactive tables.';\n",
              "          element.innerHTML = '';\n",
              "          dataTable['output_type'] = 'display_data';\n",
              "          await google.colab.output.renderOutput(dataTable, element);\n",
              "          const docLink = document.createElement('div');\n",
              "          docLink.innerHTML = docLinkHtml;\n",
              "          element.appendChild(docLink);\n",
              "        }\n",
              "      </script>\n",
              "    </div>\n",
              "  </div>\n",
              "  "
            ]
          },
          "metadata": {},
          "execution_count": 46
        }
      ]
    },
    {
      "metadata": {
        "trusted": true,
        "_uuid": "d814e5db6f76a4e90b8496f09d0ba340d1eae808",
        "colab": {
          "base_uri": "https://localhost:8080/"
        },
        "id": "bbuI6v6sJnX2",
        "outputId": "e7e9518d-5399-43cc-a902-4d9b47a6a961"
      },
      "cell_type": "code",
      "source": [
        "#showing columns\n",
        "telecom_cust.columns.values"
      ],
      "execution_count": null,
      "outputs": [
        {
          "output_type": "execute_result",
          "data": {
            "text/plain": [
              "array(['customerID', 'gender', 'SeniorCitizen', 'Partner', 'Dependents',\n",
              "       'tenure', 'PhoneService', 'MultipleLines', 'InternetService',\n",
              "       'OnlineSecurity', 'OnlineBackup', 'DeviceProtection',\n",
              "       'TechSupport', 'StreamingTV', 'StreamingMovies', 'Contract',\n",
              "       'PaperlessBilling', 'PaymentMethod', 'MonthlyCharges',\n",
              "       'TotalCharges', 'Churn'], dtype=object)"
            ]
          },
          "metadata": {},
          "execution_count": 47
        }
      ]
    },
    {
      "cell_type": "code",
      "source": [
        "#duplicates\n",
        "telecom_cust.duplicated().sum() "
      ],
      "metadata": {
        "colab": {
          "base_uri": "https://localhost:8080/"
        },
        "id": "NRw8UuxLL_Gt",
        "outputId": "b6608d2a-a87b-4c68-f947-133c52380a37"
      },
      "execution_count": null,
      "outputs": [
        {
          "output_type": "execute_result",
          "data": {
            "text/plain": [
              "0"
            ]
          },
          "metadata": {},
          "execution_count": 48
        }
      ]
    },
    {
      "cell_type": "code",
      "source": [
        "#Summary statistics of the non numerical  columns\n",
        "telecom_cust.describe(exclude=np.number)"
      ],
      "metadata": {
        "colab": {
          "base_uri": "https://localhost:8080/",
          "height": 256
        },
        "id": "jeZCiyqQRuU5",
        "outputId": "bc4d576d-4637-4e67-ff2e-5b27d95f8c25"
      },
      "execution_count": null,
      "outputs": [
        {
          "output_type": "execute_result",
          "data": {
            "text/plain": [
              "        customerID gender Partner Dependents PhoneService MultipleLines  \\\n",
              "count         7043   7043    7043       7043         7043          7043   \n",
              "unique        7043      2       2          2            2             3   \n",
              "top     7590-VHVEG   Male      No         No          Yes            No   \n",
              "freq             1   3555    3641       4933         6361          3390   \n",
              "\n",
              "       InternetService OnlineSecurity OnlineBackup DeviceProtection  \\\n",
              "count             7043           7043         7043             7043   \n",
              "unique               3              3            3                3   \n",
              "top        Fiber optic             No           No               No   \n",
              "freq              3096           3498         3088             3095   \n",
              "\n",
              "       TechSupport StreamingTV StreamingMovies        Contract  \\\n",
              "count         7043        7043            7043            7043   \n",
              "unique           3           3               3               3   \n",
              "top             No          No              No  Month-to-month   \n",
              "freq          3473        2810            2785            3875   \n",
              "\n",
              "       PaperlessBilling     PaymentMethod TotalCharges Churn  \n",
              "count              7043              7043         7043  7043  \n",
              "unique                2                 4         6531     2  \n",
              "top                 Yes  Electronic check                 No  \n",
              "freq               4171              2365           11  5174  "
            ],
            "text/html": [
              "\n",
              "  <div id=\"df-9152f84f-4475-4b6a-abae-3c5e7c9fd291\">\n",
              "    <div class=\"colab-df-container\">\n",
              "      <div>\n",
              "<style scoped>\n",
              "    .dataframe tbody tr th:only-of-type {\n",
              "        vertical-align: middle;\n",
              "    }\n",
              "\n",
              "    .dataframe tbody tr th {\n",
              "        vertical-align: top;\n",
              "    }\n",
              "\n",
              "    .dataframe thead th {\n",
              "        text-align: right;\n",
              "    }\n",
              "</style>\n",
              "<table border=\"1\" class=\"dataframe\">\n",
              "  <thead>\n",
              "    <tr style=\"text-align: right;\">\n",
              "      <th></th>\n",
              "      <th>customerID</th>\n",
              "      <th>gender</th>\n",
              "      <th>Partner</th>\n",
              "      <th>Dependents</th>\n",
              "      <th>PhoneService</th>\n",
              "      <th>MultipleLines</th>\n",
              "      <th>InternetService</th>\n",
              "      <th>OnlineSecurity</th>\n",
              "      <th>OnlineBackup</th>\n",
              "      <th>DeviceProtection</th>\n",
              "      <th>TechSupport</th>\n",
              "      <th>StreamingTV</th>\n",
              "      <th>StreamingMovies</th>\n",
              "      <th>Contract</th>\n",
              "      <th>PaperlessBilling</th>\n",
              "      <th>PaymentMethod</th>\n",
              "      <th>TotalCharges</th>\n",
              "      <th>Churn</th>\n",
              "    </tr>\n",
              "  </thead>\n",
              "  <tbody>\n",
              "    <tr>\n",
              "      <th>count</th>\n",
              "      <td>7043</td>\n",
              "      <td>7043</td>\n",
              "      <td>7043</td>\n",
              "      <td>7043</td>\n",
              "      <td>7043</td>\n",
              "      <td>7043</td>\n",
              "      <td>7043</td>\n",
              "      <td>7043</td>\n",
              "      <td>7043</td>\n",
              "      <td>7043</td>\n",
              "      <td>7043</td>\n",
              "      <td>7043</td>\n",
              "      <td>7043</td>\n",
              "      <td>7043</td>\n",
              "      <td>7043</td>\n",
              "      <td>7043</td>\n",
              "      <td>7043</td>\n",
              "      <td>7043</td>\n",
              "    </tr>\n",
              "    <tr>\n",
              "      <th>unique</th>\n",
              "      <td>7043</td>\n",
              "      <td>2</td>\n",
              "      <td>2</td>\n",
              "      <td>2</td>\n",
              "      <td>2</td>\n",
              "      <td>3</td>\n",
              "      <td>3</td>\n",
              "      <td>3</td>\n",
              "      <td>3</td>\n",
              "      <td>3</td>\n",
              "      <td>3</td>\n",
              "      <td>3</td>\n",
              "      <td>3</td>\n",
              "      <td>3</td>\n",
              "      <td>2</td>\n",
              "      <td>4</td>\n",
              "      <td>6531</td>\n",
              "      <td>2</td>\n",
              "    </tr>\n",
              "    <tr>\n",
              "      <th>top</th>\n",
              "      <td>7590-VHVEG</td>\n",
              "      <td>Male</td>\n",
              "      <td>No</td>\n",
              "      <td>No</td>\n",
              "      <td>Yes</td>\n",
              "      <td>No</td>\n",
              "      <td>Fiber optic</td>\n",
              "      <td>No</td>\n",
              "      <td>No</td>\n",
              "      <td>No</td>\n",
              "      <td>No</td>\n",
              "      <td>No</td>\n",
              "      <td>No</td>\n",
              "      <td>Month-to-month</td>\n",
              "      <td>Yes</td>\n",
              "      <td>Electronic check</td>\n",
              "      <td></td>\n",
              "      <td>No</td>\n",
              "    </tr>\n",
              "    <tr>\n",
              "      <th>freq</th>\n",
              "      <td>1</td>\n",
              "      <td>3555</td>\n",
              "      <td>3641</td>\n",
              "      <td>4933</td>\n",
              "      <td>6361</td>\n",
              "      <td>3390</td>\n",
              "      <td>3096</td>\n",
              "      <td>3498</td>\n",
              "      <td>3088</td>\n",
              "      <td>3095</td>\n",
              "      <td>3473</td>\n",
              "      <td>2810</td>\n",
              "      <td>2785</td>\n",
              "      <td>3875</td>\n",
              "      <td>4171</td>\n",
              "      <td>2365</td>\n",
              "      <td>11</td>\n",
              "      <td>5174</td>\n",
              "    </tr>\n",
              "  </tbody>\n",
              "</table>\n",
              "</div>\n",
              "      <button class=\"colab-df-convert\" onclick=\"convertToInteractive('df-9152f84f-4475-4b6a-abae-3c5e7c9fd291')\"\n",
              "              title=\"Convert this dataframe to an interactive table.\"\n",
              "              style=\"display:none;\">\n",
              "        \n",
              "  <svg xmlns=\"http://www.w3.org/2000/svg\" height=\"24px\"viewBox=\"0 0 24 24\"\n",
              "       width=\"24px\">\n",
              "    <path d=\"M0 0h24v24H0V0z\" fill=\"none\"/>\n",
              "    <path d=\"M18.56 5.44l.94 2.06.94-2.06 2.06-.94-2.06-.94-.94-2.06-.94 2.06-2.06.94zm-11 1L8.5 8.5l.94-2.06 2.06-.94-2.06-.94L8.5 2.5l-.94 2.06-2.06.94zm10 10l.94 2.06.94-2.06 2.06-.94-2.06-.94-.94-2.06-.94 2.06-2.06.94z\"/><path d=\"M17.41 7.96l-1.37-1.37c-.4-.4-.92-.59-1.43-.59-.52 0-1.04.2-1.43.59L10.3 9.45l-7.72 7.72c-.78.78-.78 2.05 0 2.83L4 21.41c.39.39.9.59 1.41.59.51 0 1.02-.2 1.41-.59l7.78-7.78 2.81-2.81c.8-.78.8-2.07 0-2.86zM5.41 20L4 18.59l7.72-7.72 1.47 1.35L5.41 20z\"/>\n",
              "  </svg>\n",
              "      </button>\n",
              "      \n",
              "  <style>\n",
              "    .colab-df-container {\n",
              "      display:flex;\n",
              "      flex-wrap:wrap;\n",
              "      gap: 12px;\n",
              "    }\n",
              "\n",
              "    .colab-df-convert {\n",
              "      background-color: #E8F0FE;\n",
              "      border: none;\n",
              "      border-radius: 50%;\n",
              "      cursor: pointer;\n",
              "      display: none;\n",
              "      fill: #1967D2;\n",
              "      height: 32px;\n",
              "      padding: 0 0 0 0;\n",
              "      width: 32px;\n",
              "    }\n",
              "\n",
              "    .colab-df-convert:hover {\n",
              "      background-color: #E2EBFA;\n",
              "      box-shadow: 0px 1px 2px rgba(60, 64, 67, 0.3), 0px 1px 3px 1px rgba(60, 64, 67, 0.15);\n",
              "      fill: #174EA6;\n",
              "    }\n",
              "\n",
              "    [theme=dark] .colab-df-convert {\n",
              "      background-color: #3B4455;\n",
              "      fill: #D2E3FC;\n",
              "    }\n",
              "\n",
              "    [theme=dark] .colab-df-convert:hover {\n",
              "      background-color: #434B5C;\n",
              "      box-shadow: 0px 1px 3px 1px rgba(0, 0, 0, 0.15);\n",
              "      filter: drop-shadow(0px 1px 2px rgba(0, 0, 0, 0.3));\n",
              "      fill: #FFFFFF;\n",
              "    }\n",
              "  </style>\n",
              "\n",
              "      <script>\n",
              "        const buttonEl =\n",
              "          document.querySelector('#df-9152f84f-4475-4b6a-abae-3c5e7c9fd291 button.colab-df-convert');\n",
              "        buttonEl.style.display =\n",
              "          google.colab.kernel.accessAllowed ? 'block' : 'none';\n",
              "\n",
              "        async function convertToInteractive(key) {\n",
              "          const element = document.querySelector('#df-9152f84f-4475-4b6a-abae-3c5e7c9fd291');\n",
              "          const dataTable =\n",
              "            await google.colab.kernel.invokeFunction('convertToInteractive',\n",
              "                                                     [key], {});\n",
              "          if (!dataTable) return;\n",
              "\n",
              "          const docLinkHtml = 'Like what you see? Visit the ' +\n",
              "            '<a target=\"_blank\" href=https://colab.research.google.com/notebooks/data_table.ipynb>data table notebook</a>'\n",
              "            + ' to learn more about interactive tables.';\n",
              "          element.innerHTML = '';\n",
              "          dataTable['output_type'] = 'display_data';\n",
              "          await google.colab.output.renderOutput(dataTable, element);\n",
              "          const docLink = document.createElement('div');\n",
              "          docLink.innerHTML = docLinkHtml;\n",
              "          element.appendChild(docLink);\n",
              "        }\n",
              "      </script>\n",
              "    </div>\n",
              "  </div>\n",
              "  "
            ]
          },
          "metadata": {},
          "execution_count": 49
        }
      ]
    },
    {
      "metadata": {
        "_uuid": "16fb2729865787705742df465100419d7988837c",
        "id": "FZkt4SmcJnX2"
      },
      "cell_type": "markdown",
      "source": [
        "**Let's explore the data to see if there are any missing values.**"
      ]
    },
    {
      "metadata": {
        "trusted": true,
        "_uuid": "641531c5f3131228c78e6a200e0410a161ccb2b0",
        "colab": {
          "base_uri": "https://localhost:8080/"
        },
        "id": "uKZ_DoUxJnX2",
        "outputId": "2c9c767d-da17-430e-9f4a-203b5055b6c4"
      },
      "cell_type": "code",
      "source": [
        "# Checking the data types of all the columns\n",
        "telecom_cust.dtypes"
      ],
      "execution_count": null,
      "outputs": [
        {
          "output_type": "execute_result",
          "data": {
            "text/plain": [
              "customerID           object\n",
              "gender               object\n",
              "SeniorCitizen         int64\n",
              "Partner              object\n",
              "Dependents           object\n",
              "tenure                int64\n",
              "PhoneService         object\n",
              "MultipleLines        object\n",
              "InternetService      object\n",
              "OnlineSecurity       object\n",
              "OnlineBackup         object\n",
              "DeviceProtection     object\n",
              "TechSupport          object\n",
              "StreamingTV          object\n",
              "StreamingMovies      object\n",
              "Contract             object\n",
              "PaperlessBilling     object\n",
              "PaymentMethod        object\n",
              "MonthlyCharges      float64\n",
              "TotalCharges         object\n",
              "Churn                object\n",
              "dtype: object"
            ]
          },
          "metadata": {},
          "execution_count": 50
        }
      ]
    },
    {
      "cell_type": "code",
      "source": [
        "telecom_cust.isnull().sum()"
      ],
      "metadata": {
        "colab": {
          "base_uri": "https://localhost:8080/"
        },
        "id": "CEhkKgfCNTJ9",
        "outputId": "56ba6100-d2aa-4d05-f22d-64cc156f6aca"
      },
      "execution_count": null,
      "outputs": [
        {
          "output_type": "execute_result",
          "data": {
            "text/plain": [
              "customerID          0\n",
              "gender              0\n",
              "SeniorCitizen       0\n",
              "Partner             0\n",
              "Dependents          0\n",
              "tenure              0\n",
              "PhoneService        0\n",
              "MultipleLines       0\n",
              "InternetService     0\n",
              "OnlineSecurity      0\n",
              "OnlineBackup        0\n",
              "DeviceProtection    0\n",
              "TechSupport         0\n",
              "StreamingTV         0\n",
              "StreamingMovies     0\n",
              "Contract            0\n",
              "PaperlessBilling    0\n",
              "PaymentMethod       0\n",
              "MonthlyCharges      0\n",
              "TotalCharges        0\n",
              "Churn               0\n",
              "dtype: int64"
            ]
          },
          "metadata": {},
          "execution_count": 51
        }
      ]
    },
    {
      "cell_type": "markdown",
      "source": [
        "When we look at the dataset in general we don't see any missing values, however, when we look at each feature one by one in detail, we found that the feature \"TotalCharges\" has some missing values since its data type conversion.\n",
        "Moreover, even though in our dataset the data type of the column \"TotalCharges\" is indicated as type \"object\", but in reality it contains numeric values\n",
        "because it indicates the total expenses of the client, calculated at the end of the quarter. So we also need to change its data type to \"float\".\n"
      ],
      "metadata": {
        "id": "OPaEfAtlLbYD"
      }
    },
    {
      "metadata": {
        "trusted": true,
        "_uuid": "1d2c01029124a6fe73b3ec3fc4efdb66647d64e1",
        "colab": {
          "base_uri": "https://localhost:8080/"
        },
        "id": "CEBa4_2QJnX3",
        "outputId": "fbdcbda0-8374-40f3-d267-71c821935106"
      },
      "cell_type": "code",
      "source": [
        "# Converting Total Charges to a numerical data type.\n",
        "telecom_cust.TotalCharges = pd.to_numeric(telecom_cust.TotalCharges, errors='coerce')\n",
        "telecom_cust.isnull().sum()"
      ],
      "execution_count": null,
      "outputs": [
        {
          "output_type": "execute_result",
          "data": {
            "text/plain": [
              "customerID           0\n",
              "gender               0\n",
              "SeniorCitizen        0\n",
              "Partner              0\n",
              "Dependents           0\n",
              "tenure               0\n",
              "PhoneService         0\n",
              "MultipleLines        0\n",
              "InternetService      0\n",
              "OnlineSecurity       0\n",
              "OnlineBackup         0\n",
              "DeviceProtection     0\n",
              "TechSupport          0\n",
              "StreamingTV          0\n",
              "StreamingMovies      0\n",
              "Contract             0\n",
              "PaperlessBilling     0\n",
              "PaymentMethod        0\n",
              "MonthlyCharges       0\n",
              "TotalCharges        11\n",
              "Churn                0\n",
              "dtype: int64"
            ]
          },
          "metadata": {},
          "execution_count": 52
        }
      ]
    },
    {
      "metadata": {
        "_uuid": "4c997dec9dbb501333f6a1562e9092e1008df58f",
        "id": "f2OOlnJpJnX3"
      },
      "cell_type": "markdown",
      "source": [
        "After looking at the above output, we can say that there are 11 missing values for Total Charges. Let us replace these 11 rows from our data set"
      ]
    },
    {
      "metadata": {
        "trusted": true,
        "_uuid": "35b6c18a5b84dd1e5fa014b49fcfce8ee43aaabe",
        "id": "7mUcF4XpJnX4"
      },
      "cell_type": "code",
      "source": [
        "#Replacing  missing values with the mean\n",
        "telecom_cust['TotalCharges'] = telecom_cust['TotalCharges'].fillna(telecom_cust['TotalCharges'].mean())\n"
      ],
      "execution_count": null,
      "outputs": []
    },
    {
      "cell_type": "code",
      "source": [
        "#rechecking again null values\n",
        "telecom_cust.isnull().sum()"
      ],
      "metadata": {
        "colab": {
          "base_uri": "https://localhost:8080/"
        },
        "id": "6SprlD0YPzgE",
        "outputId": "5387846e-a738-43fa-d9de-f35a08184a7c"
      },
      "execution_count": null,
      "outputs": [
        {
          "output_type": "execute_result",
          "data": {
            "text/plain": [
              "customerID          0\n",
              "gender              0\n",
              "SeniorCitizen       0\n",
              "Partner             0\n",
              "Dependents          0\n",
              "tenure              0\n",
              "PhoneService        0\n",
              "MultipleLines       0\n",
              "InternetService     0\n",
              "OnlineSecurity      0\n",
              "OnlineBackup        0\n",
              "DeviceProtection    0\n",
              "TechSupport         0\n",
              "StreamingTV         0\n",
              "StreamingMovies     0\n",
              "Contract            0\n",
              "PaperlessBilling    0\n",
              "PaymentMethod       0\n",
              "MonthlyCharges      0\n",
              "TotalCharges        0\n",
              "Churn               0\n",
              "dtype: int64"
            ]
          },
          "metadata": {},
          "execution_count": 54
        }
      ]
    },
    {
      "cell_type": "code",
      "source": [
        "#Remove customerID from the dataset\n",
        "telecom_cust.drop(['customerID'], axis=1, inplace = True)"
      ],
      "metadata": {
        "id": "ewNvnoqaQI8S"
      },
      "execution_count": null,
      "outputs": []
    },
    {
      "cell_type": "code",
      "source": [
        "# converting the non-numeric  data  including our target variable into numeric data.\n",
        "from sklearn.preprocessing import LabelEncoder \n",
        "encoded = telecom_cust.apply(lambda x: LabelEncoder().fit_transform(x) if x.dtype == 'object' else x)\n",
        "encoded.head()\n"
      ],
      "metadata": {
        "colab": {
          "base_uri": "https://localhost:8080/",
          "height": 270
        },
        "id": "kNOhQzbrMv7a",
        "outputId": "ded03cb1-2094-4b18-8dd3-a351cbb74fd2"
      },
      "execution_count": null,
      "outputs": [
        {
          "output_type": "execute_result",
          "data": {
            "text/plain": [
              "   gender  SeniorCitizen  Partner  Dependents  tenure  PhoneService  \\\n",
              "0       0              0        1           0       1             0   \n",
              "1       1              0        0           0      34             1   \n",
              "2       1              0        0           0       2             1   \n",
              "3       1              0        0           0      45             0   \n",
              "4       0              0        0           0       2             1   \n",
              "\n",
              "   MultipleLines  InternetService  OnlineSecurity  OnlineBackup  \\\n",
              "0              1                0               0             2   \n",
              "1              0                0               2             0   \n",
              "2              0                0               2             2   \n",
              "3              1                0               2             0   \n",
              "4              0                1               0             0   \n",
              "\n",
              "   DeviceProtection  TechSupport  StreamingTV  StreamingMovies  Contract  \\\n",
              "0                 0            0            0                0         0   \n",
              "1                 2            0            0                0         1   \n",
              "2                 0            0            0                0         0   \n",
              "3                 2            2            0                0         1   \n",
              "4                 0            0            0                0         0   \n",
              "\n",
              "   PaperlessBilling  PaymentMethod  MonthlyCharges  TotalCharges  Churn  \n",
              "0                 1              2           29.85         29.85      0  \n",
              "1                 0              3           56.95       1889.50      0  \n",
              "2                 1              3           53.85        108.15      1  \n",
              "3                 0              0           42.30       1840.75      0  \n",
              "4                 1              2           70.70        151.65      1  "
            ],
            "text/html": [
              "\n",
              "  <div id=\"df-5c0fca82-b7b5-41e9-8e86-ff4fae537b51\">\n",
              "    <div class=\"colab-df-container\">\n",
              "      <div>\n",
              "<style scoped>\n",
              "    .dataframe tbody tr th:only-of-type {\n",
              "        vertical-align: middle;\n",
              "    }\n",
              "\n",
              "    .dataframe tbody tr th {\n",
              "        vertical-align: top;\n",
              "    }\n",
              "\n",
              "    .dataframe thead th {\n",
              "        text-align: right;\n",
              "    }\n",
              "</style>\n",
              "<table border=\"1\" class=\"dataframe\">\n",
              "  <thead>\n",
              "    <tr style=\"text-align: right;\">\n",
              "      <th></th>\n",
              "      <th>gender</th>\n",
              "      <th>SeniorCitizen</th>\n",
              "      <th>Partner</th>\n",
              "      <th>Dependents</th>\n",
              "      <th>tenure</th>\n",
              "      <th>PhoneService</th>\n",
              "      <th>MultipleLines</th>\n",
              "      <th>InternetService</th>\n",
              "      <th>OnlineSecurity</th>\n",
              "      <th>OnlineBackup</th>\n",
              "      <th>DeviceProtection</th>\n",
              "      <th>TechSupport</th>\n",
              "      <th>StreamingTV</th>\n",
              "      <th>StreamingMovies</th>\n",
              "      <th>Contract</th>\n",
              "      <th>PaperlessBilling</th>\n",
              "      <th>PaymentMethod</th>\n",
              "      <th>MonthlyCharges</th>\n",
              "      <th>TotalCharges</th>\n",
              "      <th>Churn</th>\n",
              "    </tr>\n",
              "  </thead>\n",
              "  <tbody>\n",
              "    <tr>\n",
              "      <th>0</th>\n",
              "      <td>0</td>\n",
              "      <td>0</td>\n",
              "      <td>1</td>\n",
              "      <td>0</td>\n",
              "      <td>1</td>\n",
              "      <td>0</td>\n",
              "      <td>1</td>\n",
              "      <td>0</td>\n",
              "      <td>0</td>\n",
              "      <td>2</td>\n",
              "      <td>0</td>\n",
              "      <td>0</td>\n",
              "      <td>0</td>\n",
              "      <td>0</td>\n",
              "      <td>0</td>\n",
              "      <td>1</td>\n",
              "      <td>2</td>\n",
              "      <td>29.85</td>\n",
              "      <td>29.85</td>\n",
              "      <td>0</td>\n",
              "    </tr>\n",
              "    <tr>\n",
              "      <th>1</th>\n",
              "      <td>1</td>\n",
              "      <td>0</td>\n",
              "      <td>0</td>\n",
              "      <td>0</td>\n",
              "      <td>34</td>\n",
              "      <td>1</td>\n",
              "      <td>0</td>\n",
              "      <td>0</td>\n",
              "      <td>2</td>\n",
              "      <td>0</td>\n",
              "      <td>2</td>\n",
              "      <td>0</td>\n",
              "      <td>0</td>\n",
              "      <td>0</td>\n",
              "      <td>1</td>\n",
              "      <td>0</td>\n",
              "      <td>3</td>\n",
              "      <td>56.95</td>\n",
              "      <td>1889.50</td>\n",
              "      <td>0</td>\n",
              "    </tr>\n",
              "    <tr>\n",
              "      <th>2</th>\n",
              "      <td>1</td>\n",
              "      <td>0</td>\n",
              "      <td>0</td>\n",
              "      <td>0</td>\n",
              "      <td>2</td>\n",
              "      <td>1</td>\n",
              "      <td>0</td>\n",
              "      <td>0</td>\n",
              "      <td>2</td>\n",
              "      <td>2</td>\n",
              "      <td>0</td>\n",
              "      <td>0</td>\n",
              "      <td>0</td>\n",
              "      <td>0</td>\n",
              "      <td>0</td>\n",
              "      <td>1</td>\n",
              "      <td>3</td>\n",
              "      <td>53.85</td>\n",
              "      <td>108.15</td>\n",
              "      <td>1</td>\n",
              "    </tr>\n",
              "    <tr>\n",
              "      <th>3</th>\n",
              "      <td>1</td>\n",
              "      <td>0</td>\n",
              "      <td>0</td>\n",
              "      <td>0</td>\n",
              "      <td>45</td>\n",
              "      <td>0</td>\n",
              "      <td>1</td>\n",
              "      <td>0</td>\n",
              "      <td>2</td>\n",
              "      <td>0</td>\n",
              "      <td>2</td>\n",
              "      <td>2</td>\n",
              "      <td>0</td>\n",
              "      <td>0</td>\n",
              "      <td>1</td>\n",
              "      <td>0</td>\n",
              "      <td>0</td>\n",
              "      <td>42.30</td>\n",
              "      <td>1840.75</td>\n",
              "      <td>0</td>\n",
              "    </tr>\n",
              "    <tr>\n",
              "      <th>4</th>\n",
              "      <td>0</td>\n",
              "      <td>0</td>\n",
              "      <td>0</td>\n",
              "      <td>0</td>\n",
              "      <td>2</td>\n",
              "      <td>1</td>\n",
              "      <td>0</td>\n",
              "      <td>1</td>\n",
              "      <td>0</td>\n",
              "      <td>0</td>\n",
              "      <td>0</td>\n",
              "      <td>0</td>\n",
              "      <td>0</td>\n",
              "      <td>0</td>\n",
              "      <td>0</td>\n",
              "      <td>1</td>\n",
              "      <td>2</td>\n",
              "      <td>70.70</td>\n",
              "      <td>151.65</td>\n",
              "      <td>1</td>\n",
              "    </tr>\n",
              "  </tbody>\n",
              "</table>\n",
              "</div>\n",
              "      <button class=\"colab-df-convert\" onclick=\"convertToInteractive('df-5c0fca82-b7b5-41e9-8e86-ff4fae537b51')\"\n",
              "              title=\"Convert this dataframe to an interactive table.\"\n",
              "              style=\"display:none;\">\n",
              "        \n",
              "  <svg xmlns=\"http://www.w3.org/2000/svg\" height=\"24px\"viewBox=\"0 0 24 24\"\n",
              "       width=\"24px\">\n",
              "    <path d=\"M0 0h24v24H0V0z\" fill=\"none\"/>\n",
              "    <path d=\"M18.56 5.44l.94 2.06.94-2.06 2.06-.94-2.06-.94-.94-2.06-.94 2.06-2.06.94zm-11 1L8.5 8.5l.94-2.06 2.06-.94-2.06-.94L8.5 2.5l-.94 2.06-2.06.94zm10 10l.94 2.06.94-2.06 2.06-.94-2.06-.94-.94-2.06-.94 2.06-2.06.94z\"/><path d=\"M17.41 7.96l-1.37-1.37c-.4-.4-.92-.59-1.43-.59-.52 0-1.04.2-1.43.59L10.3 9.45l-7.72 7.72c-.78.78-.78 2.05 0 2.83L4 21.41c.39.39.9.59 1.41.59.51 0 1.02-.2 1.41-.59l7.78-7.78 2.81-2.81c.8-.78.8-2.07 0-2.86zM5.41 20L4 18.59l7.72-7.72 1.47 1.35L5.41 20z\"/>\n",
              "  </svg>\n",
              "      </button>\n",
              "      \n",
              "  <style>\n",
              "    .colab-df-container {\n",
              "      display:flex;\n",
              "      flex-wrap:wrap;\n",
              "      gap: 12px;\n",
              "    }\n",
              "\n",
              "    .colab-df-convert {\n",
              "      background-color: #E8F0FE;\n",
              "      border: none;\n",
              "      border-radius: 50%;\n",
              "      cursor: pointer;\n",
              "      display: none;\n",
              "      fill: #1967D2;\n",
              "      height: 32px;\n",
              "      padding: 0 0 0 0;\n",
              "      width: 32px;\n",
              "    }\n",
              "\n",
              "    .colab-df-convert:hover {\n",
              "      background-color: #E2EBFA;\n",
              "      box-shadow: 0px 1px 2px rgba(60, 64, 67, 0.3), 0px 1px 3px 1px rgba(60, 64, 67, 0.15);\n",
              "      fill: #174EA6;\n",
              "    }\n",
              "\n",
              "    [theme=dark] .colab-df-convert {\n",
              "      background-color: #3B4455;\n",
              "      fill: #D2E3FC;\n",
              "    }\n",
              "\n",
              "    [theme=dark] .colab-df-convert:hover {\n",
              "      background-color: #434B5C;\n",
              "      box-shadow: 0px 1px 3px 1px rgba(0, 0, 0, 0.15);\n",
              "      filter: drop-shadow(0px 1px 2px rgba(0, 0, 0, 0.3));\n",
              "      fill: #FFFFFF;\n",
              "    }\n",
              "  </style>\n",
              "\n",
              "      <script>\n",
              "        const buttonEl =\n",
              "          document.querySelector('#df-5c0fca82-b7b5-41e9-8e86-ff4fae537b51 button.colab-df-convert');\n",
              "        buttonEl.style.display =\n",
              "          google.colab.kernel.accessAllowed ? 'block' : 'none';\n",
              "\n",
              "        async function convertToInteractive(key) {\n",
              "          const element = document.querySelector('#df-5c0fca82-b7b5-41e9-8e86-ff4fae537b51');\n",
              "          const dataTable =\n",
              "            await google.colab.kernel.invokeFunction('convertToInteractive',\n",
              "                                                     [key], {});\n",
              "          if (!dataTable) return;\n",
              "\n",
              "          const docLinkHtml = 'Like what you see? Visit the ' +\n",
              "            '<a target=\"_blank\" href=https://colab.research.google.com/notebooks/data_table.ipynb>data table notebook</a>'\n",
              "            + ' to learn more about interactive tables.';\n",
              "          element.innerHTML = '';\n",
              "          dataTable['output_type'] = 'display_data';\n",
              "          await google.colab.output.renderOutput(dataTable, element);\n",
              "          const docLink = document.createElement('div');\n",
              "          docLink.innerHTML = docLinkHtml;\n",
              "          element.appendChild(docLink);\n",
              "        }\n",
              "      </script>\n",
              "    </div>\n",
              "  </div>\n",
              "  "
            ]
          },
          "metadata": {},
          "execution_count": 64
        }
      ]
    },
    {
      "metadata": {
        "trusted": true,
        "_uuid": "57fad0b9bcd9188193c84ae48ea589123532eac8",
        "colab": {
          "base_uri": "https://localhost:8080/",
          "height": 576
        },
        "id": "wkE87a9YJnX4",
        "outputId": "939c2492-3b78-48f1-84d9-2ca358f28570"
      },
      "cell_type": "code",
      "source": [
        "#Get Correlation of \"Churn\" with other variables:\n",
        "plt.figure(figsize=(15,8))\n",
        "encoded .corr()['Churn'].sort_values(ascending = False).plot(kind='bar')"
      ],
      "execution_count": null,
      "outputs": [
        {
          "output_type": "execute_result",
          "data": {
            "text/plain": [
              "<matplotlib.axes._subplots.AxesSubplot at 0x7f9d54fbd290>"
            ]
          },
          "metadata": {},
          "execution_count": 65
        },
        {
          "output_type": "display_data",
          "data": {
            "text/plain": [
              "<Figure size 1080x576 with 1 Axes>"
            ],
            "image/png": "[encoded data removed]"
          },
          "metadata": {
            "needs_background": "light"
          }
        }
      ]
    },
    {
      "metadata": {
        "_uuid": "e4f114358ce3d568a34c1ac419623274a345812e",
        "id": "fy-Uw6rsJnX4"
      },
      "cell_type": "markdown",
      "source": [
        "Month to month contracts, absence of online security and tech support seem to be positively correlated with churn. While, tenure, two year contracts seem to be negatively correlated with churn. \n",
        "\n",
        "Interestingly, services such as Online security, streaming TV, online backup, tech support, etc. without internet connection seem to be negatively related to churn.\n",
        "\n",
        "We will explore the patterns for the above correlations below before we delve into modelling and identifying the important variables."
      ]
    },
    {
      "metadata": {
        "_uuid": "36df8a7ca36ca8afe570cc985582ef12bc1bc7f8",
        "id": "kUTD36KwJnX5"
      },
      "cell_type": "markdown",
      "source": [
        "## Data Exploration\n",
        "\n",
        "Let us first start with exploring our data set, to better understand the patterns in the data and potentially form some hypothesis. First we will look at the distribution of individual variables and then slice and dice our data for any interesting trends."
      ]
    },
    {
      "metadata": {
        "_uuid": "3755c7c8080f09fc745f8db11d9205102de6780e",
        "id": "ZGPvAkqlJnX5"
      },
      "cell_type": "markdown",
      "source": [
        "**A.)** ***Demographics*** - Let us first understand the gender, age range, patner and dependent status of the customers"
      ]
    },
    {
      "metadata": {
        "_uuid": "e98209bca3edf4f3ea0d2bdea092b152f09f6bbb",
        "id": "Jfi3r9g3JnX5"
      },
      "cell_type": "markdown",
      "source": [
        "1. **Gender Distribution** - About half of the customers in our data set are male while the other half are female"
      ]
    },
    {
      "metadata": {
        "trusted": true,
        "_uuid": "d507f49a7e96b7618b57e0812eed8847543b1c64",
        "colab": {
          "base_uri": "https://localhost:8080/",
          "height": 295
        },
        "id": "Q36y-hf1JnX6",
        "outputId": "f3474a95-eb8b-4a0c-d5ed-516ea0f826c8"
      },
      "cell_type": "code",
      "source": [
        "colors = ['#4D3425','#E4512B']\n",
        "ax = (telecom_cust['gender'].value_counts()*100.0 /len(telecom_cust)).plot(kind='bar',\n",
        "                                                                           stacked = True,\n",
        "                                                                          rot = 0,\n",
        "                                                                          color = colors)\n",
        "ax.yaxis.set_major_formatter(mtick.PercentFormatter())\n",
        "ax.set_ylabel('% Customers')\n",
        "ax.set_xlabel('Gender')\n",
        "ax.set_ylabel('% Customers')\n",
        "ax.set_title('Gender Distribution')\n",
        "\n",
        "# create a list to collect the plt.patches data\n",
        "totals = []\n",
        "\n",
        "# find the values and append to list\n",
        "for i in ax.patches:\n",
        "    totals.append(i.get_width())\n",
        "\n",
        "# set individual bar lables using above list\n",
        "total = sum(totals)\n",
        "\n",
        "for i in ax.patches:\n",
        "    # get_width pulls left or right; get_y pushes up or down\n",
        "    ax.text(i.get_x()+.15, i.get_height()-3.5, \\\n",
        "            str(round((i.get_height()/total), 1))+'%',\n",
        "            fontsize=12,\n",
        "            color='white',\n",
        "           weight = 'bold')"
      ],
      "execution_count": null,
      "outputs": [
        {
          "output_type": "display_data",
          "data": {
            "text/plain": [
              "<Figure size 432x288 with 1 Axes>"
            ],
            "image/png": "[encoded data removed]"
          },
          "metadata": {
            "needs_background": "light"
          }
        }
      ]
    },
    {
      "metadata": {
        "trusted": true,
        "_uuid": "9cafbb06245f6162da782bf0aa99faa3f6f9029d",
        "colab": {
          "base_uri": "https://localhost:8080/",
          "height": 369
        },
        "id": "Q5cpIPCuJnYO",
        "outputId": "7ad5d136-fbcc-4721-f815-c11464a69ff9"
      },
      "cell_type": "code",
      "source": [
        "ax1 = sns.catplot(x=\"gender\", kind=\"count\", hue=\"Churn\", data=telecom_cust,\n",
        "                  estimator=lambda x: sum(x==0)*100.0/len(x))\n",
        "#ax1.yaxis.set_major_formatter(mtick.PercentFormatter())"
      ],
      "execution_count": null,
      "outputs": [
        {
          "output_type": "display_data",
          "data": {
            "text/plain": [
              "<Figure size 412x360 with 1 Axes>"
            ],
            "image/png": "[encoded data removed]"
          },
          "metadata": {
            "needs_background": "light"
          }
        }
      ]
    },
    {
      "metadata": {
        "trusted": true,
        "_uuid": "b9cceb14a980ddcd1ac36552947f1571706e0c17",
        "id": "LMY47XQiJnX6"
      },
      "cell_type": "markdown",
      "source": [
        "2. **% Senior Citizens** - There are only 16% of the customers who are senior citizens. Thus most of our customers in the data are younger people.\n"
      ]
    },
    {
      "metadata": {
        "trusted": true,
        "_uuid": "b552f24e928a6e41806ddfa10f49c331988e60e3",
        "colab": {
          "base_uri": "https://localhost:8080/",
          "height": 336
        },
        "id": "T00dWopcJnX7",
        "outputId": "dc6a0eea-98c9-4139-fcc5-76311ec3cd66"
      },
      "cell_type": "code",
      "source": [
        "ax = (telecom_cust['SeniorCitizen'].value_counts()*100.0 /len(telecom_cust))\\\n",
        ".plot.pie(autopct='%.1f%%', labels = ['No', 'Yes'],figsize =(5,5), fontsize = 12 )                                                                           \n",
        "ax.yaxis.set_major_formatter(mtick.PercentFormatter())\n",
        "ax.set_ylabel('Senior Citizens',fontsize = 12)\n",
        "ax.set_title('% of Senior Citizens', fontsize = 12)"
      ],
      "execution_count": null,
      "outputs": [
        {
          "output_type": "execute_result",
          "data": {
            "text/plain": [
              "Text(0.5, 1.0, '% of Senior Citizens')"
            ]
          },
          "metadata": {},
          "execution_count": 67
        },
        {
          "output_type": "display_data",
          "data": {
            "text/plain": [
              "<Figure size 360x360 with 1 Axes>"
            ],
            "image/png": "[encoded data removed]"
          },
          "metadata": {}
        }
      ]
    },
    {
      "metadata": {
        "trusted": true,
        "_uuid": "56ee88a7c14911a3cd79c3b885ac738377baf7aa",
        "id": "e9xz7WZNJnX8"
      },
      "cell_type": "markdown",
      "source": [
        "Interestingly,  among the customers who have a partner, only about half of them also have a dependent, while other half do not have any independents. \n",
        "Additionally, as expected, among the customers who do not have any partner, a majority (80%) of them do not have any dependents ."
      ]
    },
    {
      "metadata": {
        "trusted": true,
        "_uuid": "f79c281d0cfab3cc8f14979d33834f8834ef9d2e",
        "colab": {
          "base_uri": "https://localhost:8080/",
          "height": 409
        },
        "id": "ciyUT9McJnX8",
        "outputId": "43f36093-aced-4b41-f65d-6a0660ff0ef7"
      },
      "cell_type": "code",
      "source": [
        "colors = ['#4D3425','#E4512B']\n",
        "partner_dependents = telecom_cust.groupby(['Partner','Dependents']).size().unstack()\n",
        "\n",
        "ax = (partner_dependents.T*100.0 / partner_dependents.T.sum()).T.plot(kind='bar',\n",
        "                                                                width = 0.2,\n",
        "                                                                stacked = True,\n",
        "                                                                rot = 0, \n",
        "                                                                figsize = (8,6),\n",
        "                                                                color = colors)\n",
        "ax.yaxis.set_major_formatter(mtick.PercentFormatter())\n",
        "ax.legend(loc='center',prop={'size':14},title = 'Dependents',fontsize =14)\n",
        "ax.set_ylabel('% Customers',size = 14)\n",
        "ax.set_title('% Customers with/without dependents based on whether they have a partner',size = 14)\n",
        "ax.xaxis.label.set_size(14)\n",
        "\n",
        "# Code to add the data labels on the stacked bar chart\n",
        "for p in ax.patches:\n",
        "    width, height = p.get_width(), p.get_height()\n",
        "    x, y = p.get_xy() \n",
        "    ax.annotate('{:.0f}%'.format(height), (p.get_x()+.25*width, p.get_y()+.4*height),\n",
        "                color = 'white',\n",
        "               weight = 'bold',\n",
        "               size = 14)"
      ],
      "execution_count": null,
      "outputs": [
        {
          "output_type": "display_data",
          "data": {
            "text/plain": [
              "<Figure size 576x432 with 1 Axes>"
            ],
            "image/png": "[encoded data removed]"
          },
          "metadata": {
            "needs_background": "light"
          }
        }
      ]
    },
    {
      "metadata": {
        "_uuid": "3da3b87d7066955df9803b71931c5d5f7f5af1bb",
        "id": "X_3qtX45JnX9"
      },
      "cell_type": "markdown",
      "source": [
        "I also looked at any differences between the % of customers with/without dependents and partners by gender. There is no difference in their distribution by gender. Additionally, there is no difference in senior citizen status by gender."
      ]
    },
    {
      "metadata": {
        "trusted": true,
        "_uuid": "479b11772e5d57dbf5a812abdd07a344e876c935",
        "id": "JhC12PDpJnX9"
      },
      "cell_type": "markdown",
      "source": [
        "### B.) **Customer Account Information**:  Let u now look at the tenure, contract"
      ]
    },
    {
      "metadata": {
        "_uuid": "d3090f6fd85039f6c67875eadf51d59b0d3c27a8",
        "id": "YED9jcEFJnX9"
      },
      "cell_type": "markdown",
      "source": [
        "**1. Tenure:**  After looking at the below histogram we can see that a lot of customers have been with the telecom company for just a month, while quite a many are there for about 72 months. This could be potentially because different customers have different contracts. Thus based on the contract they are into it could be more/less easier for the customers to stay/leave the telecom company."
      ]
    },
    {
      "metadata": {
        "trusted": true,
        "_uuid": "2b1dca3917424690fe006b38b03b46ebf1e751d4",
        "colab": {
          "base_uri": "https://localhost:8080/",
          "height": 367
        },
        "id": "HZx2OVASJnX9",
        "outputId": "14c2eb75-9f41-4fae-f3ab-8f5b957c1cb2"
      },
      "cell_type": "code",
      "source": [
        "ax = sns.distplot(telecom_cust['tenure'], hist=True, kde=False, \n",
        "             bins=int(180/5), color = 'darkblue', \n",
        "             hist_kws={'edgecolor':'black'},\n",
        "             kde_kws={'linewidth': 4})\n",
        "ax.set_ylabel('# of Customers')\n",
        "ax.set_xlabel('Tenure (months)')\n",
        "ax.set_title('# of Customers by their tenure')"
      ],
      "execution_count": null,
      "outputs": [
        {
          "output_type": "stream",
          "name": "stderr",
          "text": [
            "/usr/local/lib/python3.7/dist-packages/seaborn/distributions.py:2619: FutureWarning: `distplot` is a deprecated function and will be removed in a future version. Please adapt your code to use either `displot` (a figure-level function with similar flexibility) or `histplot` (an axes-level function for histograms).\n",
            "  warnings.warn(msg, FutureWarning)\n"
          ]
        },
        {
          "output_type": "execute_result",
          "data": {
            "text/plain": [
              "Text(0.5, 1.0, '# of Customers by their tenure')"
            ]
          },
          "metadata": {},
          "execution_count": 18
        },
        {
          "output_type": "display_data",
          "data": {
            "text/plain": [
              "<Figure size 432x288 with 1 Axes>"
            ],
            "image/png": "[encoded data removed]"
          },
          "metadata": {
            "needs_background": "light"
          }
        }
      ]
    },
    {
      "metadata": {
        "_uuid": "ce5fccc67da0ea51ed1bf9a3451d9aeedfb9cd77",
        "id": "Z7IpFDyhJnX-"
      },
      "cell_type": "markdown",
      "source": [
        "**2. Contracts:** To understand the above graph, lets first look at the # of customers by different contracts. "
      ]
    },
    {
      "metadata": {
        "trusted": true,
        "_uuid": "b4589d9d041360eb2c1f33bafb61631fa3b1a29e",
        "colab": {
          "base_uri": "https://localhost:8080/",
          "height": 298
        },
        "id": "ZVAlpmktJnX-",
        "outputId": "e519f348-849b-49d2-bed4-cb61192b68f5"
      },
      "cell_type": "code",
      "source": [
        "ax = telecom_cust['Contract'].value_counts().plot(kind = 'bar',rot = 0, width = 0.3)\n",
        "ax.set_ylabel('# of Customers')\n",
        "ax.set_title('# of Customers by Contract Type')"
      ],
      "execution_count": null,
      "outputs": [
        {
          "output_type": "execute_result",
          "data": {
            "text/plain": [
              "Text(0.5, 1.0, '# of Customers by Contract Type')"
            ]
          },
          "metadata": {},
          "execution_count": 19
        },
        {
          "output_type": "display_data",
          "data": {
            "text/plain": [
              "<Figure size 432x288 with 1 Axes>"
            ],
            "image/png": "[encoded data removed]"
          },
          "metadata": {
            "needs_background": "light"
          }
        }
      ]
    },
    {
      "metadata": {
        "_uuid": "0acd43e2b09988ba4d5c0de03cfab1c8a7d684a0",
        "id": "gEzHKPokJnX-"
      },
      "cell_type": "markdown",
      "source": [
        "As we can see from this graph most of the customers are in the month to month contract. While there are equal number of customers in the 1 year and 2 year contracts.\n",
        "\n"
      ]
    },
    {
      "metadata": {
        "_uuid": "cc6cac55a5511342b33fed0feaf3b9624788fd5a",
        "id": "zATi3ygsJnX_"
      },
      "cell_type": "markdown",
      "source": [
        "Below we will understand the tenure of customers based on their contract type."
      ]
    },
    {
      "metadata": {
        "trusted": true,
        "_uuid": "1a616c81b2d4153d3470010a90f03fa25767a7ed",
        "colab": {
          "base_uri": "https://localhost:8080/",
          "height": 426
        },
        "id": "8bXZ46BCJnX_",
        "outputId": "eb5d4494-f17a-436d-eced-6b0b4fd60425"
      },
      "cell_type": "code",
      "source": [
        "fig, (ax1,ax2,ax3) = plt.subplots(nrows=1, ncols=3, sharey = True, figsize = (20,6))\n",
        "\n",
        "ax = sns.distplot(telecom_cust[telecom_cust['Contract']=='Month-to-month']['tenure'],\n",
        "                   hist=True, kde=False,\n",
        "                   bins=int(180/5), color = 'turquoise',\n",
        "                   hist_kws={'edgecolor':'black'},\n",
        "                   kde_kws={'linewidth': 4},\n",
        "                 ax=ax1)\n",
        "ax.set_ylabel('# of Customers')\n",
        "ax.set_xlabel('Tenure (months)')\n",
        "ax.set_title('Month to Month Contract')\n",
        "\n",
        "ax = sns.distplot(telecom_cust[telecom_cust['Contract']=='One year']['tenure'],\n",
        "                   hist=True, kde=False,\n",
        "                   bins=int(180/5), color = 'steelblue',\n",
        "                   hist_kws={'edgecolor':'black'},\n",
        "                   kde_kws={'linewidth': 4},\n",
        "                 ax=ax2)\n",
        "ax.set_xlabel('Tenure (months)',size = 14)\n",
        "ax.set_title('One Year Contract',size = 14)\n",
        "\n",
        "ax = sns.distplot(telecom_cust[telecom_cust['Contract']=='Two year']['tenure'],\n",
        "                   hist=True, kde=False,\n",
        "                   bins=int(180/5), color = 'darkblue',\n",
        "                   hist_kws={'edgecolor':'black'},\n",
        "                   kde_kws={'linewidth': 4},\n",
        "                 ax=ax3)\n",
        "\n",
        "ax.set_xlabel('Tenure (months)')\n",
        "ax.set_title('Two Year Contract')"
      ],
      "execution_count": null,
      "outputs": [
        {
          "output_type": "execute_result",
          "data": {
            "text/plain": [
              "Text(0.5, 1.0, 'Two Year Contract')"
            ]
          },
          "metadata": {},
          "execution_count": 20
        },
        {
          "output_type": "display_data",
          "data": {
            "text/plain": [
              "<Figure size 1440x432 with 3 Axes>"
            ],
            "image/png": "[encoded data removed]"
          },
          "metadata": {
            "needs_background": "light"
          }
        }
      ]
    },
    {
      "metadata": {
        "trusted": true,
        "_uuid": "ee2411d340eb9c03cd45cbaafd391bf60f61653c",
        "id": "SpjB3cpUJnYA"
      },
      "cell_type": "markdown",
      "source": [
        "Interestingly most of the monthly contracts last for 1-2 months, while the 2 year contracts tend to last for about 70 months. This shows that the customers taking a longer contract are more loyal to the company and tend to stay with it for a longer period of time. \n",
        "\n",
        "This is also what we saw in the earlier chart on correlation with the churn rate. "
      ]
    },
    {
      "metadata": {
        "_uuid": "7f912f0a732097de7c35920ea25ccf14cd05cc13",
        "id": "bZ6Un1t6JnYB"
      },
      "cell_type": "markdown",
      "source": [
        "###  C. Let us now look at the distribution of various services used by customers"
      ]
    },
    {
      "metadata": {
        "trusted": true,
        "_uuid": "961cdb51ddd3ccb110555b359394d823c33df66b",
        "colab": {
          "base_uri": "https://localhost:8080/"
        },
        "id": "gKBCMiFqJnYC",
        "outputId": "4b07a188-c39b-40bb-beea-d0f396775c2a"
      },
      "cell_type": "code",
      "source": [
        "\n",
        "telecom_cust.columns.values"
      ],
      "execution_count": null,
      "outputs": [
        {
          "output_type": "execute_result",
          "data": {
            "text/plain": [
              "array(['gender', 'SeniorCitizen', 'Partner', 'Dependents', 'tenure',\n",
              "       'PhoneService', 'MultipleLines', 'InternetService',\n",
              "       'OnlineSecurity', 'OnlineBackup', 'DeviceProtection',\n",
              "       'TechSupport', 'StreamingTV', 'StreamingMovies', 'Contract',\n",
              "       'PaperlessBilling', 'PaymentMethod', 'MonthlyCharges',\n",
              "       'TotalCharges', 'Churn'], dtype=object)"
            ]
          },
          "metadata": {},
          "execution_count": 21
        }
      ]
    },
    {
      "metadata": {
        "trusted": true,
        "_uuid": "8503e680b82a2492bfed8f29dd2d13dafb7ed661",
        "colab": {
          "base_uri": "https://localhost:8080/",
          "height": 716
        },
        "id": "aPt9K9Q5JnYD",
        "outputId": "dcbbc47c-911c-432f-8d50-ee16edf26006"
      },
      "cell_type": "code",
      "source": [
        "services = ['PhoneService','MultipleLines','InternetService','OnlineSecurity',\n",
        "           'OnlineBackup','DeviceProtection','TechSupport','StreamingTV','StreamingMovies']\n",
        "\n",
        "fig, axes = plt.subplots(nrows = 3,ncols = 3,figsize = (15,12))\n",
        "for i, item in enumerate(services):\n",
        "    if i < 3:\n",
        "        ax = telecom_cust[item].value_counts().plot(kind = 'bar',ax=axes[i,0],rot = 0)\n",
        "        \n",
        "    elif i >=3 and i < 6:\n",
        "        ax = telecom_cust[item].value_counts().plot(kind = 'bar',ax=axes[i-3,1],rot = 0)\n",
        "        \n",
        "    elif i < 9:\n",
        "        ax = telecom_cust[item].value_counts().plot(kind = 'bar',ax=axes[i-6,2],rot = 0)\n",
        "    ax.set_title(item)"
      ],
      "execution_count": null,
      "outputs": [
        {
          "output_type": "display_data",
          "data": {
            "text/plain": [
              "<Figure size 1080x864 with 9 Axes>"
            ],
            "image/png": "[encoded data removed]"
          },
          "metadata": {
            "needs_background": "light"
          }
        }
      ]
    },
    {
      "metadata": {
        "_uuid": "fec8539f6336ca456276f67b6ffd72b8ceb3790e",
        "id": "lhz98ozRJnYE"
      },
      "cell_type": "markdown",
      "source": [
        "### D.) Now let's take a quick look at the relation between monthly and total charges"
      ]
    },
    {
      "metadata": {
        "_uuid": "933ff48d2ebc4c4828a2c998b6f0428767475161",
        "id": "o8_tvd7eJnYF"
      },
      "cell_type": "markdown",
      "source": [
        "We will observe that the total charges increases as the monthly bill for a customer increases."
      ]
    },
    {
      "metadata": {
        "trusted": true,
        "_uuid": "4601f238e8fe13cbb815be90718086928a54041b",
        "colab": {
          "base_uri": "https://localhost:8080/",
          "height": 296
        },
        "id": "T1nT8y9pJnYF",
        "outputId": "d0574b0a-93e2-4569-82f0-82113ce2c958"
      },
      "cell_type": "code",
      "source": [
        "telecom_cust[['MonthlyCharges', 'TotalCharges']].plot.scatter(x = 'MonthlyCharges',\n",
        "                                                              y='TotalCharges')"
      ],
      "execution_count": null,
      "outputs": [
        {
          "output_type": "execute_result",
          "data": {
            "text/plain": [
              "<matplotlib.axes._subplots.AxesSubplot at 0x7f9d64a93050>"
            ]
          },
          "metadata": {},
          "execution_count": 23
        },
        {
          "output_type": "display_data",
          "data": {
            "text/plain": [
              "<Figure size 432x288 with 1 Axes>"
            ],
            "image/png": "[encoded data removed]"
          },
          "metadata": {
            "needs_background": "light"
          }
        }
      ]
    },
    {
      "metadata": {
        "_uuid": "ad813734756bd9cf1d298aee1d4063beef47738f",
        "id": "ybhMU4DDJnYF"
      },
      "cell_type": "markdown",
      "source": [
        "### E.) Finally, let's take a look at out predictor variable (Churn) and understand its interaction with other important variables as was found out in the correlation plot. "
      ]
    },
    {
      "metadata": {
        "_uuid": "67dea305467069a89007dd58a5906195ea0627d0",
        "id": "RGSAD1rmJnYG"
      },
      "cell_type": "markdown",
      "source": [
        "1. Lets first look at the churn rate in our data"
      ]
    },
    {
      "metadata": {
        "trusted": true,
        "_uuid": "4bef28080b360cbad4944abb2d4f75a440c525e9",
        "colab": {
          "base_uri": "https://localhost:8080/",
          "height": 409
        },
        "id": "q5qVpqDKJnYG",
        "outputId": "4efc04e7-fcec-42d6-c458-2e315fb0e30c"
      },
      "cell_type": "code",
      "source": [
        "colors = ['#4D3425','#E4512B']\n",
        "ax = (telecom_cust['Churn'].value_counts()*100.0 /len(telecom_cust)).plot(kind='bar',\n",
        "                                                                           stacked = True,\n",
        "                                                                          rot = 0,\n",
        "                                                                          color = colors,\n",
        "                                                                         figsize = (8,6))\n",
        "ax.yaxis.set_major_formatter(mtick.PercentFormatter())\n",
        "ax.set_ylabel('% Customers',size = 14)\n",
        "ax.set_xlabel('Churn',size = 14)\n",
        "ax.set_title('Churn Rate', size = 14)\n",
        "\n",
        "# create a list to collect the plt.patches data\n",
        "totals = []\n",
        "\n",
        "# find the values and append to list\n",
        "for i in ax.patches:\n",
        "    totals.append(i.get_width())\n",
        "\n",
        "# set individual bar lables using above list\n",
        "total = sum(totals)\n",
        "\n",
        "for i in ax.patches:\n",
        "    # get_width pulls left or right; get_y pushes up or down\n",
        "    ax.text(i.get_x()+.15, i.get_height()-4.0, \\\n",
        "            str(round((i.get_height()/total), 1))+'%',\n",
        "            fontsize=12,\n",
        "            color='white',\n",
        "           weight = 'bold',\n",
        "           size = 14)"
      ],
      "execution_count": null,
      "outputs": [
        {
          "output_type": "display_data",
          "data": {
            "text/plain": [
              "<Figure size 576x432 with 1 Axes>"
            ],
            "image/png": "[encoded data removed]"
          },
          "metadata": {
            "needs_background": "light"
          }
        }
      ]
    },
    {
      "metadata": {
        "_uuid": "432a25bf5cd664b021617844ba945fce5c6f341b",
        "id": "QohJ-BYnJnYG"
      },
      "cell_type": "markdown",
      "source": [
        "In our data, 74% of the customers do not churn. Clearly the data is skewed as we would expect a large majority of the customers to not churn. This is important to keep in mind for our modelling as skeweness could lead to a lot of false negatives. We will see in the modelling section on how to avoid skewness in the data."
      ]
    },
    {
      "metadata": {
        "_uuid": "a9a182eb5bf7832d84072519b01f4ebc741da8a9",
        "id": "MBDvD542JnYG"
      },
      "cell_type": "markdown",
      "source": [
        "2. Lets now explore the churn rate by tenure, seniority, contract type, monthly charges and total charges to see how it varies by these variables."
      ]
    },
    {
      "metadata": {
        "_uuid": "d6be674fd79a62315fe71699fb1164f31ed1446a",
        "id": "PQXn-cduJnYG"
      },
      "cell_type": "markdown",
      "source": [
        "**i.) Churn vs Tenure**: As we can see form the below plot, the customers who do not churn, they tend to stay for a longer tenure with the telecom company. "
      ]
    },
    {
      "metadata": {
        "trusted": true,
        "_uuid": "e7643a6a6dac23d668aa512b3a922d68ed91abc4",
        "colab": {
          "base_uri": "https://localhost:8080/",
          "height": 296
        },
        "id": "JLo2ycQcJnYH",
        "outputId": "e2b1c9fe-b107-4c1e-ed55-0793afb91ef0"
      },
      "cell_type": "code",
      "source": [
        "sns.boxplot(x = telecom_cust.Churn, y = telecom_cust.tenure)"
      ],
      "execution_count": null,
      "outputs": [
        {
          "output_type": "execute_result",
          "data": {
            "text/plain": [
              "<matplotlib.axes._subplots.AxesSubplot at 0x7f9d60836bd0>"
            ]
          },
          "metadata": {},
          "execution_count": 58
        },
        {
          "output_type": "display_data",
          "data": {
            "text/plain": [
              "<Figure size 432x288 with 1 Axes>"
            ],
            "image/png": "[encoded data removed]"
          },
          "metadata": {
            "needs_background": "light"
          }
        }
      ]
    },
    {
      "metadata": {
        "_uuid": "6ef23d7c4fddda89f7ec7c9345851ccd4bcb5089",
        "id": "X8xdpRUWJnYH"
      },
      "cell_type": "markdown",
      "source": [
        "**ii.) Churn by Contract Type**: Similar to what we saw in the correlation plot, the customers who have a month to month contract have a very high churn rate."
      ]
    },
    {
      "metadata": {
        "trusted": true,
        "_uuid": "7ddbc6ac84fe48dcea91ce2a60a6103e2a10ad9f",
        "colab": {
          "base_uri": "https://localhost:8080/",
          "height": 405
        },
        "id": "VESV-zhrJnYH",
        "outputId": "72649cab-00f7-46c8-e980-5b767ee50bfd"
      },
      "cell_type": "code",
      "source": [
        "colors = ['#4D3425','#E4512B']\n",
        "contract_churn = telecom_cust.groupby(['Contract','Churn']).size().unstack()\n",
        "\n",
        "ax = (contract_churn.T*100.0 / contract_churn.T.sum()).T.plot(kind='bar',\n",
        "                                                                width = 0.3,\n",
        "                                                                stacked = True,\n",
        "                                                                rot = 0, \n",
        "                                                                figsize = (10,6),\n",
        "                                                                color = colors)\n",
        "ax.yaxis.set_major_formatter(mtick.PercentFormatter())\n",
        "ax.legend(loc='best',prop={'size':14},title = 'Churn')\n",
        "ax.set_ylabel('% Customers',size = 14)\n",
        "ax.set_title('Churn by Contract Type',size = 14)\n",
        "\n",
        "# Code to add the data labels on the stacked bar chart\n",
        "for p in ax.patches:\n",
        "    width, height = p.get_width(), p.get_height()\n",
        "    x, y = p.get_xy() \n",
        "    ax.annotate('{:.0f}%'.format(height), (p.get_x()+.25*width, p.get_y()+.4*height),\n",
        "                color = 'white',\n",
        "               weight = 'bold',\n",
        "               size = 14)"
      ],
      "execution_count": null,
      "outputs": [
        {
          "output_type": "display_data",
          "data": {
            "text/plain": [
              "<Figure size 720x432 with 1 Axes>"
            ],
            "image/png": "[encoded data removed]"
          },
          "metadata": {
            "needs_background": "light"
          }
        }
      ]
    },
    {
      "metadata": {
        "_uuid": "d2975c96bb5c2ea1bcdf8c718aef1f3e8226a64c",
        "id": "m2vuYQxVJnYH"
      },
      "cell_type": "markdown",
      "source": [
        "**iii.) Churn by Seniority**: Senior Citizens have almost double the churn rate than younger population."
      ]
    },
    {
      "metadata": {
        "trusted": true,
        "_uuid": "169bc4d753a4bb1368ffe02768481e35366d75e1",
        "colab": {
          "base_uri": "https://localhost:8080/",
          "height": 405
        },
        "id": "jq-innOoJnYH",
        "outputId": "d9232100-dbb5-41b7-fec4-02c93cc027a3"
      },
      "cell_type": "code",
      "source": [
        "colors = ['#4D3425','#E4512B']\n",
        "seniority_churn = telecom_cust.groupby(['SeniorCitizen','Churn']).size().unstack()\n",
        "\n",
        "ax = (seniority_churn.T*100.0 / seniority_churn.T.sum()).T.plot(kind='bar',\n",
        "                                                                width = 0.2,\n",
        "                                                                stacked = True,\n",
        "                                                                rot = 0, \n",
        "                                                                figsize = (8,6),\n",
        "                                                                color = colors)\n",
        "ax.yaxis.set_major_formatter(mtick.PercentFormatter())\n",
        "ax.legend(loc='center',prop={'size':14},title = 'Churn')\n",
        "ax.set_ylabel('% Customers')\n",
        "ax.set_title('Churn by Seniority Level',size = 14)\n",
        "\n",
        "# Code to add the data labels on the stacked bar chart\n",
        "for p in ax.patches:\n",
        "    width, height = p.get_width(), p.get_height()\n",
        "    x, y = p.get_xy() \n",
        "    ax.annotate('{:.0f}%'.format(height), (p.get_x()+.25*width, p.get_y()+.4*height),\n",
        "                color = 'white',\n",
        "               weight = 'bold',size =14)"
      ],
      "execution_count": null,
      "outputs": [
        {
          "output_type": "display_data",
          "data": {
            "text/plain": [
              "<Figure size 576x432 with 1 Axes>"
            ],
            "image/png": "[encoded data removed]"
          },
          "metadata": {
            "needs_background": "light"
          }
        }
      ]
    },
    {
      "metadata": {
        "_uuid": "a253e14489981fb89ac3a36849432549f442695d",
        "id": "3RF5XJNdJnYJ"
      },
      "cell_type": "markdown",
      "source": [
        "## After going through the above EDA we will develop some predictive models and compare them.\n",
        "\n",
        "We will develop Logistic Regression, Random Forest, SVM, ADA Boost and XG Boost"
      ]
    },
    {
      "metadata": {
        "_uuid": "083086278a1073887b282a50a6399b1985224c1f",
        "id": "I-yK6QPLJnYJ"
      },
      "cell_type": "markdown",
      "source": [
        "**1. Logistic Regression**"
      ]
    },
    {
      "metadata": {
        "trusted": true,
        "_uuid": "7d13d788abc4ee9268338ad0539e6f8098ae9fd4",
        "id": "g3sKIfnWJnYK"
      },
      "cell_type": "code",
      "source": [
        "X = encoded.drop(columns=['Churn']) #features \n",
        "y = encoded['Churn'].values #target\n",
        "\n",
        "# Scaling all the variables to a range of 0 to 1\n",
        "from sklearn.preprocessing import MinMaxScaler\n",
        "features = X.columns.values\n",
        "scaler = MinMaxScaler(feature_range = (0,1))\n",
        "scaler.fit(X)\n",
        "X = pd.DataFrame(scaler.transform(X))\n",
        "X.columns = features"
      ],
      "execution_count": null,
      "outputs": []
    },
    {
      "metadata": {
        "_uuid": "84cd7e26d0c3e46555b53fadefd203b4adaa0da9",
        "id": "2iR3ZOMNJnYK"
      },
      "cell_type": "markdown",
      "source": [
        "It is important to scale the variables in logistic regression so that all of them are within a range of 0 to 1. This helped me improve the accuracy. Further, you will notice below that the importance of variables is also aligned with what we are seeing in Random Forest algorithm and the EDA we conducted above."
      ]
    },
    {
      "metadata": {
        "trusted": true,
        "_uuid": "32367729f8ea962bb73cae8b88b6310dd811b6de",
        "id": "ABJ_eeBPJnYK"
      },
      "cell_type": "code",
      "source": [
        "# Create Train & Test Data\n",
        "from sklearn.model_selection import train_test_split\n",
        "X_train, X_test, y_train, y_test = train_test_split(X, y, test_size=0.3, random_state=101)"
      ],
      "execution_count": null,
      "outputs": []
    },
    {
      "metadata": {
        "trusted": true,
        "_uuid": "998977bc5997ee4f9b5c45f3997523339ddc3943",
        "id": "pz9m33v2JnYL"
      },
      "cell_type": "code",
      "source": [
        "# Running logistic regression model\n",
        "from sklearn.linear_model import LogisticRegression\n",
        "model = LogisticRegression()\n",
        "result = model.fit(X_train, y_train)"
      ],
      "execution_count": null,
      "outputs": []
    },
    {
      "metadata": {
        "trusted": true,
        "_uuid": "f7f3d7b6cad7e9754fc7480e004269000363ec29",
        "colab": {
          "base_uri": "https://localhost:8080/"
        },
        "id": "l07ncPujJnYL",
        "outputId": "3cc49992-e0b4-46c8-d28e-e4ecb91e3118"
      },
      "cell_type": "code",
      "source": [
        "from sklearn import metrics\n",
        "prediction_test = model.predict(X_test)\n",
        "# Print the prediction accuracy\n",
        "print (metrics.accuracy_score(y_test, prediction_test))"
      ],
      "execution_count": null,
      "outputs": [
        {
          "output_type": "stream",
          "name": "stdout",
          "text": [
            "0.8050165641268339\n"
          ]
        }
      ]
    },
    {
      "metadata": {
        "trusted": true,
        "_uuid": "ea39ca61c3af331a45ff320add59e1aefab7da65",
        "colab": {
          "base_uri": "https://localhost:8080/",
          "height": 353
        },
        "id": "qqdcS2srJnYL",
        "outputId": "d0e266f0-b5b5-4861-b57d-eb04ce604b27"
      },
      "cell_type": "code",
      "source": [
        "# To get the weights of all the variables\n",
        "weights = pd.Series(model.coef_[0],\n",
        "                 index=X.columns.values)\n",
        "print (weights.sort_values(ascending = False)[:10].plot(kind='bar'))\n"
      ],
      "execution_count": null,
      "outputs": [
        {
          "output_type": "stream",
          "name": "stdout",
          "text": [
            "AxesSubplot(0.125,0.125;0.775x0.755)\n"
          ]
        },
        {
          "output_type": "display_data",
          "data": {
            "text/plain": [
              "<Figure size 432x288 with 1 Axes>"
            ],
            "image/png": "[encoded data removed]"
          },
          "metadata": {
            "needs_background": "light"
          }
        }
      ]
    },
    {
      "metadata": {
        "trusted": true,
        "_uuid": "6aef934353dce495ea49e3ba48fe9ef29e7a53f0",
        "colab": {
          "base_uri": "https://localhost:8080/",
          "height": 363
        },
        "id": "AjiCO9ScJnYL",
        "outputId": "6a89d04b-227a-497b-fdab-69cda4282b56"
      },
      "cell_type": "code",
      "source": [
        "print(weights.sort_values(ascending = False)[-10:].plot(kind='bar'))"
      ],
      "execution_count": null,
      "outputs": [
        {
          "output_type": "stream",
          "name": "stdout",
          "text": [
            "AxesSubplot(0.125,0.125;0.775x0.755)\n"
          ]
        },
        {
          "output_type": "display_data",
          "data": {
            "text/plain": [
              "<Figure size 432x288 with 1 Axes>"
            ],
            "image/png": "[encoded data removed]"
          },
          "metadata": {
            "needs_background": "light"
          }
        }
      ]
    },
    {
      "metadata": {
        "_uuid": "185b83162c70e65203bdc387d036f7d24ae8c129",
        "id": "0pYRbgybJnYL"
      },
      "cell_type": "markdown",
      "source": [
        "**Observations**\n",
        "\n",
        "We can see that some variables have a negative relation to our predicted variable (Churn), while some have positive relation. Negative relation means that likeliness of churn decreases with that variable. Let us summarize some of the interesting features below:\n",
        "* As we saw in our EDA, having a 2 month contract reduces chances of churn. 2 month contract along with tenure have the most negative relation with Churn as predicted by logistic regressions\n",
        "* Having DSL internet service also reduces the proability of Churn\n",
        "* Lastly, total charges, monthly contracts, fibre optic internet services and seniority can lead to higher churn rates. This is interesting because although fibre optic services are faster, customers are  likely to churn because of it. I think we need to explore more to better understad why this is happening. \n",
        "\n",
        "Any hypothesis on the above would be really helpful! "
      ]
    },
    {
      "metadata": {
        "_uuid": "d8ee107a6c58397a1f6f073032cde2c20c76fc15",
        "id": "--2VJG9MJnYM"
      },
      "cell_type": "markdown",
      "source": [
        "**2. Random Forest**"
      ]
    },
    {
      "metadata": {
        "trusted": true,
        "_uuid": "352d2332ff650ec1e22521c46790629295bcb1c7",
        "colab": {
          "base_uri": "https://localhost:8080/"
        },
        "id": "3RVM5TaCJnYM",
        "outputId": "c9fd5ade-f9ac-4bcb-c0b3-0158af4d6e4a"
      },
      "cell_type": "code",
      "source": [
        "from sklearn.ensemble import RandomForestClassifier\n",
        "X_train, X_test, y_train, y_test = train_test_split(X, y, test_size=0.2, random_state=101)\n",
        "model_rf = RandomForestClassifier(n_estimators=1000 , oob_score = True, n_jobs = -1,\n",
        "                                  random_state =50, max_features = \"auto\",\n",
        "                                  max_leaf_nodes = 30)\n",
        "model_rf.fit(X_train, y_train)\n",
        "\n",
        "# Make predictions\n",
        "prediction_test = model_rf.predict(X_test)\n",
        "print (metrics.accuracy_score(y_test, prediction_test))"
      ],
      "execution_count": null,
      "outputs": [
        {
          "output_type": "stream",
          "name": "stdout",
          "text": [
            "0.794180269694819\n"
          ]
        }
      ]
    },
    {
      "metadata": {
        "trusted": true,
        "_uuid": "ad587d99c32b5998fae79beaf9b508c4345e8ad2",
        "scrolled": false,
        "colab": {
          "base_uri": "https://localhost:8080/",
          "height": 282
        },
        "id": "WOpAa01xJnYM",
        "outputId": "b1d9c5a7-a35e-4b94-95ba-1ebe658f306d"
      },
      "cell_type": "code",
      "source": [
        "importances = model_rf.feature_importances_\n",
        "weights = pd.Series(importances,\n",
        "                 index=X.columns.values)\n",
        "weights.sort_values()[-10:].plot(kind = 'barh')"
      ],
      "execution_count": null,
      "outputs": [
        {
          "output_type": "execute_result",
          "data": {
            "text/plain": [
              "<matplotlib.axes._subplots.AxesSubplot at 0x7f9d6424c4d0>"
            ]
          },
          "metadata": {},
          "execution_count": 82
        },
        {
          "output_type": "display_data",
          "data": {
            "text/plain": [
              "<Figure size 432x288 with 1 Axes>"
            ],
            "image/png": "[encoded data removed]"
          },
          "metadata": {
            "needs_background": "light"
          }
        }
      ]
    },
    {
      "metadata": {
        "_uuid": "8dc6a21dd39575a473ca7d7e8575bd192a313027",
        "id": "xNt7S4S-JnYM"
      },
      "cell_type": "markdown",
      "source": [
        "**Observations:**\n",
        "\n",
        "* From random forest algorithm, monthly contract, tenure and total charges are the most important predictor variables to predict churn.\n",
        "* The results from random forest are very similar to that of the logistic regression and in line to what we had expected from our EDA"
      ]
    },
    {
      "metadata": {
        "_uuid": "d66067184c40bb775576854fcd1d2d00d1e2ada5",
        "id": "C1qW_RSuJnYM"
      },
      "cell_type": "markdown",
      "source": [
        "**3. Support Vecor Machine (SVM)**"
      ]
    },
    {
      "metadata": {
        "trusted": true,
        "_uuid": "2efb7cabe5d6c1ec276becf6d036f8eea3b8d492",
        "id": "Fp_moujdJnYN"
      },
      "cell_type": "code",
      "source": [
        "X_train, X_test, y_train, y_test = train_test_split(X, y, test_size=0.2, random_state=99)"
      ],
      "execution_count": null,
      "outputs": []
    },
    {
      "metadata": {
        "trusted": true,
        "_uuid": "9bd8fcf307bdf2092e6b2e2cd3dfc12e82400e19",
        "colab": {
          "base_uri": "https://localhost:8080/"
        },
        "id": "rzVHyLXhJnYN",
        "outputId": "96ae22c0-19b8-4176-bd10-afab83a31921"
      },
      "cell_type": "code",
      "source": [
        "from sklearn.svm import SVC\n",
        "\n",
        "model.svm = SVC(kernel='linear') \n",
        "model.svm.fit(X_train,y_train)\n",
        "preds = model.svm.predict(X_test)\n",
        "metrics.accuracy_score(y_test, preds)"
      ],
      "execution_count": null,
      "outputs": [
        {
          "output_type": "execute_result",
          "data": {
            "text/plain": [
              "0.7821149751596878"
            ]
          },
          "metadata": {},
          "execution_count": 39
        }
      ]
    },
    {
      "metadata": {
        "trusted": true,
        "_uuid": "231b49ac18e47fa50c817b4ee1915af17c9d3cd2",
        "colab": {
          "base_uri": "https://localhost:8080/"
        },
        "id": "oLPKg73GJnYN",
        "outputId": "559f159a-6b2c-4a3f-a876-1b1e821836a4"
      },
      "cell_type": "code",
      "source": [
        "# Create the Confusion matrix\n",
        "from sklearn.metrics import classification_report, confusion_matrix  \n",
        "print(confusion_matrix(y_test,preds))  "
      ],
      "execution_count": null,
      "outputs": [
        {
          "output_type": "stream",
          "name": "stdout",
          "text": [
            "[[910 113]\n",
            " [194 192]]\n"
          ]
        }
      ]
    },
    {
      "metadata": {
        "trusted": true,
        "_uuid": "46dcb2e6e42d4445cb046632fc70be3ecf7b4380",
        "id": "3itx-X6ZJnYO"
      },
      "cell_type": "markdown",
      "source": [
        "**4. ADA Boost**"
      ]
    },
    {
      "metadata": {
        "trusted": true,
        "_uuid": "92f12399305244a20814918747d8cc2cf69f2937",
        "colab": {
          "base_uri": "https://localhost:8080/"
        },
        "id": "i1cgaFopJnYO",
        "outputId": "7d212998-42a8-41e7-93e0-cde0c7fb51b4"
      },
      "cell_type": "code",
      "source": [
        "# AdaBoost Algorithm\n",
        "from sklearn.ensemble import AdaBoostClassifier\n",
        "model = AdaBoostClassifier()\n",
        "# n_estimators = 50 (default value) \n",
        "# base_estimator = DecisionTreeClassifier (default value)\n",
        "model.fit(X_train,y_train)\n",
        "preds = model.predict(X_test)\n",
        "metrics.accuracy_score(y_test, preds)"
      ],
      "execution_count": null,
      "outputs": [
        {
          "output_type": "execute_result",
          "data": {
            "text/plain": [
              "0.7991483321504613"
            ]
          },
          "metadata": {},
          "execution_count": 42
        }
      ]
    },
    {
      "metadata": {
        "_uuid": "31346f118c08fced007e555f3a7ad5ad9605a7ff",
        "id": "_Bru5UYLJnYP"
      },
      "cell_type": "markdown",
      "source": [
        "**5. XG Boost**"
      ]
    },
    {
      "metadata": {
        "trusted": true,
        "_uuid": "066ba20180ea27da8c3cea15ce50aaeac9fdd3bd",
        "colab": {
          "base_uri": "https://localhost:8080/"
        },
        "id": "VkD9bJGBJnYP",
        "outputId": "8fa18266-9c32-4942-b55c-d8dd46489c5e"
      },
      "cell_type": "code",
      "source": [
        "from xgboost import XGBClassifier\n",
        "model = XGBClassifier()\n",
        "model.fit(X_train, y_train)\n",
        "preds = model.predict(X_test)\n",
        "metrics.accuracy_score(y_test, preds)"
      ],
      "execution_count": null,
      "outputs": [
        {
          "output_type": "execute_result",
          "data": {
            "text/plain": [
              "0.7998580553584103"
            ]
          },
          "metadata": {},
          "execution_count": 43
        }
      ]
    }
  ],
  "metadata": {
    "kernelspec": {
      "display_name": "Python 3",
      "language": "python",
      "name": "python3"
    },
    "language_info": {
      "name": "python",
      "version": "3.6.6",
      "mimetype": "text/x-python",
      "codemirror_mode": {
        "name": "ipython",
        "version": 3
      },
      "pygments_lexer": "ipython3",
      "nbconvert_exporter": "python",
      "file_extension": ".py"
    },
    "colab": {
      "provenance": [],
      "include_colab_link": true
    }
  },
  "nbformat": 4,
  "nbformat_minor": 0
}